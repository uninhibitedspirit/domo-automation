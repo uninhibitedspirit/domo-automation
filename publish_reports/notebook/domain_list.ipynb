{
 "cells": [
  {
   "cell_type": "code",
   "execution_count": 1,
   "id": "1cab2f10",
   "metadata": {},
   "outputs": [],
   "source": [
    "import pandas as pd\n",
    "import numpy as np"
   ]
  },
  {
   "cell_type": "code",
   "execution_count": 41,
   "id": "f2cd722b",
   "metadata": {},
   "outputs": [],
   "source": [
    "all_domains = pd.read_csv('../domain_list.csv')"
   ]
  },
  {
   "cell_type": "code",
   "execution_count": 42,
   "id": "e6c02207",
   "metadata": {},
   "outputs": [
    {
     "data": {
      "text/html": [
       "<div>\n",
       "<style scoped>\n",
       "    .dataframe tbody tr th:only-of-type {\n",
       "        vertical-align: middle;\n",
       "    }\n",
       "\n",
       "    .dataframe tbody tr th {\n",
       "        vertical-align: top;\n",
       "    }\n",
       "\n",
       "    .dataframe thead th {\n",
       "        text-align: right;\n",
       "    }\n",
       "</style>\n",
       "<table border=\"1\" class=\"dataframe\">\n",
       "  <thead>\n",
       "    <tr style=\"text-align: right;\">\n",
       "      <th></th>\n",
       "      <th>domain</th>\n",
       "      <th>ds_name</th>\n",
       "      <th>client</th>\n",
       "      <th>instance_id</th>\n",
       "      <th>owner_id</th>\n",
       "      <th>owner_name</th>\n",
       "    </tr>\n",
       "  </thead>\n",
       "  <tbody>\n",
       "    <tr>\n",
       "      <th>0</th>\n",
       "      <td>exxonmobil.com</td>\n",
       "      <td>1949_Users [U][1] [Latest Metadata]</td>\n",
       "      <td>Exxon Mobile</td>\n",
       "      <td>edcast-206</td>\n",
       "      <td>664511761</td>\n",
       "      <td>Domo Admin</td>\n",
       "    </tr>\n",
       "    <tr>\n",
       "      <th>1</th>\n",
       "      <td>exxonmobil.com</td>\n",
       "      <td>1949_Users [U][1] [Latest Metadata]</td>\n",
       "      <td>Exxon Mobile</td>\n",
       "      <td>edcast-206</td>\n",
       "      <td>664511761</td>\n",
       "      <td>Domo Admin</td>\n",
       "    </tr>\n",
       "    <tr>\n",
       "      <th>2</th>\n",
       "      <td>exxonmobil.com</td>\n",
       "      <td>1949_Users [U][1] [Latest Metadata]</td>\n",
       "      <td>Exxon Mobile</td>\n",
       "      <td>edcast-206</td>\n",
       "      <td>664511761</td>\n",
       "      <td>Domo Admin</td>\n",
       "    </tr>\n",
       "    <tr>\n",
       "      <th>3</th>\n",
       "      <td>exxonmobil.com</td>\n",
       "      <td>1949_Users [U][1] [Latest Metadata]</td>\n",
       "      <td>Exxon Mobile</td>\n",
       "      <td>edcast-206</td>\n",
       "      <td>664511761</td>\n",
       "      <td>Domo Admin</td>\n",
       "    </tr>\n",
       "    <tr>\n",
       "      <th>4</th>\n",
       "      <td>exxonmobil.com</td>\n",
       "      <td>1949_Users [U][1] [Latest Metadata]</td>\n",
       "      <td>Exxon Mobile</td>\n",
       "      <td>edcast-206</td>\n",
       "      <td>664511761</td>\n",
       "      <td>Domo Admin</td>\n",
       "    </tr>\n",
       "  </tbody>\n",
       "</table>\n",
       "</div>"
      ],
      "text/plain": [
       "           domain                              ds_name        client   \n",
       "0  exxonmobil.com  1949_Users [U][1] [Latest Metadata]  Exxon Mobile  \\\n",
       "1  exxonmobil.com  1949_Users [U][1] [Latest Metadata]  Exxon Mobile   \n",
       "2  exxonmobil.com  1949_Users [U][1] [Latest Metadata]  Exxon Mobile   \n",
       "3  exxonmobil.com  1949_Users [U][1] [Latest Metadata]  Exxon Mobile   \n",
       "4  exxonmobil.com  1949_Users [U][1] [Latest Metadata]  Exxon Mobile   \n",
       "\n",
       "  instance_id   owner_id  owner_name  \n",
       "0  edcast-206  664511761  Domo Admin  \n",
       "1  edcast-206  664511761  Domo Admin  \n",
       "2  edcast-206  664511761  Domo Admin  \n",
       "3  edcast-206  664511761  Domo Admin  \n",
       "4  edcast-206  664511761  Domo Admin  "
      ]
     },
     "execution_count": 42,
     "metadata": {},
     "output_type": "execute_result"
    }
   ],
   "source": [
    "all_domains.head()"
   ]
  },
  {
   "cell_type": "code",
   "execution_count": 43,
   "id": "3386579d",
   "metadata": {},
   "outputs": [
    {
     "data": {
      "text/plain": [
       "69088656"
      ]
     },
     "execution_count": 43,
     "metadata": {},
     "output_type": "execute_result"
    }
   ],
   "source": [
    "all_domains.size"
   ]
  },
  {
   "cell_type": "code",
   "execution_count": 44,
   "id": "a783509b",
   "metadata": {},
   "outputs": [
    {
     "data": {
      "text/plain": [
       "458"
      ]
     },
     "execution_count": 44,
     "metadata": {},
     "output_type": "execute_result"
    }
   ],
   "source": [
    "all_domains[all_domains.instance_id == 'edcast-1001'].domain.nunique()"
   ]
  },
  {
   "cell_type": "code",
   "execution_count": 45,
   "id": "eed8a867",
   "metadata": {},
   "outputs": [
    {
     "data": {
      "text/plain": [
       "271989"
      ]
     },
     "execution_count": 45,
     "metadata": {},
     "output_type": "execute_result"
    }
   ],
   "source": [
    "all_domains[all_domains.instance_id == 'edcast-1001'].domain.size"
   ]
  },
  {
   "cell_type": "code",
   "execution_count": 46,
   "id": "4dfde17c",
   "metadata": {},
   "outputs": [
    {
     "data": {
      "text/plain": [
       "7522672"
      ]
     },
     "execution_count": 46,
     "metadata": {},
     "output_type": "execute_result"
    }
   ],
   "source": [
    "all_domains[all_domains.instance_id == 'edcast-211'].domain.size"
   ]
  },
  {
   "cell_type": "code",
   "execution_count": 117,
   "id": "7e751cab",
   "metadata": {},
   "outputs": [],
   "source": [
    "final_domains = all_domains[all_domains.instance_id != 'edcast-1001']"
   ]
  },
  {
   "cell_type": "code",
   "execution_count": 118,
   "id": "03865e4e",
   "metadata": {},
   "outputs": [],
   "source": [
    "final_domains = final_domains[final_domains.instance_id != 'edcast-401']"
   ]
  },
  {
   "cell_type": "code",
   "execution_count": 119,
   "id": "920d9b9e",
   "metadata": {},
   "outputs": [],
   "source": [
    "final_domains = final_domains[final_domains.instance_id != 'edcast-211']"
   ]
  },
  {
   "cell_type": "code",
   "execution_count": 120,
   "id": "4617b196",
   "metadata": {},
   "outputs": [],
   "source": [
    "final_domains = final_domains[final_domains.instance_id != 'edcast']"
   ]
  },
  {
   "cell_type": "code",
   "execution_count": 121,
   "id": "cf614ac7",
   "metadata": {},
   "outputs": [
    {
     "data": {
      "text/plain": [
       "20708100"
      ]
     },
     "execution_count": 121,
     "metadata": {},
     "output_type": "execute_result"
    }
   ],
   "source": [
    "final_domains.size"
   ]
  },
  {
   "cell_type": "code",
   "execution_count": 122,
   "id": "359fe8bb",
   "metadata": {},
   "outputs": [],
   "source": [
    "final_domains = final_domains[~final_domains.domain.str.contains('yahoo')]"
   ]
  },
  {
   "cell_type": "code",
   "execution_count": 123,
   "id": "fc92a700",
   "metadata": {},
   "outputs": [],
   "source": [
    "final_domains = final_domains[~final_domains.domain.str.contains('gmail')]"
   ]
  },
  {
   "cell_type": "code",
   "execution_count": 124,
   "id": "345bd072",
   "metadata": {},
   "outputs": [],
   "source": [
    "final_domains = final_domains[~final_domains.domain.str.contains('google')]"
   ]
  },
  {
   "cell_type": "code",
   "execution_count": 125,
   "id": "993904ee",
   "metadata": {},
   "outputs": [
    {
     "data": {
      "text/plain": [
       "20411148"
      ]
     },
     "execution_count": 125,
     "metadata": {},
     "output_type": "execute_result"
    }
   ],
   "source": [
    "final_domains.size"
   ]
  },
  {
   "cell_type": "code",
   "execution_count": 126,
   "id": "a4079f4c",
   "metadata": {},
   "outputs": [
    {
     "name": "stdout",
     "output_type": "stream",
     "text": [
      "<class 'pandas.core.frame.DataFrame'>\n",
      "Index: 3401858 entries, 0 to 3451349\n",
      "Data columns (total 6 columns):\n",
      " #   Column       Dtype \n",
      "---  ------       ----- \n",
      " 0   domain       object\n",
      " 1   ds_name      object\n",
      " 2   client       object\n",
      " 3   instance_id  object\n",
      " 4   owner_id     int64 \n",
      " 5   owner_name   object\n",
      "dtypes: int64(1), object(5)\n",
      "memory usage: 181.7+ MB\n"
     ]
    }
   ],
   "source": [
    "final_domains.info()"
   ]
  },
  {
   "cell_type": "code",
   "execution_count": 127,
   "id": "d18751b0",
   "metadata": {},
   "outputs": [
    {
     "data": {
      "text/html": [
       "<div>\n",
       "<style scoped>\n",
       "    .dataframe tbody tr th:only-of-type {\n",
       "        vertical-align: middle;\n",
       "    }\n",
       "\n",
       "    .dataframe tbody tr th {\n",
       "        vertical-align: top;\n",
       "    }\n",
       "\n",
       "    .dataframe thead th {\n",
       "        text-align: right;\n",
       "    }\n",
       "</style>\n",
       "<table border=\"1\" class=\"dataframe\">\n",
       "  <thead>\n",
       "    <tr style=\"text-align: right;\">\n",
       "      <th></th>\n",
       "      <th>domain</th>\n",
       "      <th>ds_name</th>\n",
       "      <th>client</th>\n",
       "      <th>instance_id</th>\n",
       "      <th>owner_id</th>\n",
       "      <th>owner_name</th>\n",
       "    </tr>\n",
       "  </thead>\n",
       "  <tbody>\n",
       "    <tr>\n",
       "      <th>0</th>\n",
       "      <td>exxonmobil.com</td>\n",
       "      <td>1949_Users [U][1] [Latest Metadata]</td>\n",
       "      <td>Exxon Mobile</td>\n",
       "      <td>edcast-206</td>\n",
       "      <td>664511761</td>\n",
       "      <td>Domo Admin</td>\n",
       "    </tr>\n",
       "    <tr>\n",
       "      <th>1</th>\n",
       "      <td>exxonmobil.com</td>\n",
       "      <td>1949_Users [U][1] [Latest Metadata]</td>\n",
       "      <td>Exxon Mobile</td>\n",
       "      <td>edcast-206</td>\n",
       "      <td>664511761</td>\n",
       "      <td>Domo Admin</td>\n",
       "    </tr>\n",
       "    <tr>\n",
       "      <th>2</th>\n",
       "      <td>exxonmobil.com</td>\n",
       "      <td>1949_Users [U][1] [Latest Metadata]</td>\n",
       "      <td>Exxon Mobile</td>\n",
       "      <td>edcast-206</td>\n",
       "      <td>664511761</td>\n",
       "      <td>Domo Admin</td>\n",
       "    </tr>\n",
       "    <tr>\n",
       "      <th>3</th>\n",
       "      <td>exxonmobil.com</td>\n",
       "      <td>1949_Users [U][1] [Latest Metadata]</td>\n",
       "      <td>Exxon Mobile</td>\n",
       "      <td>edcast-206</td>\n",
       "      <td>664511761</td>\n",
       "      <td>Domo Admin</td>\n",
       "    </tr>\n",
       "    <tr>\n",
       "      <th>4</th>\n",
       "      <td>exxonmobil.com</td>\n",
       "      <td>1949_Users [U][1] [Latest Metadata]</td>\n",
       "      <td>Exxon Mobile</td>\n",
       "      <td>edcast-206</td>\n",
       "      <td>664511761</td>\n",
       "      <td>Domo Admin</td>\n",
       "    </tr>\n",
       "  </tbody>\n",
       "</table>\n",
       "</div>"
      ],
      "text/plain": [
       "           domain                              ds_name        client   \n",
       "0  exxonmobil.com  1949_Users [U][1] [Latest Metadata]  Exxon Mobile  \\\n",
       "1  exxonmobil.com  1949_Users [U][1] [Latest Metadata]  Exxon Mobile   \n",
       "2  exxonmobil.com  1949_Users [U][1] [Latest Metadata]  Exxon Mobile   \n",
       "3  exxonmobil.com  1949_Users [U][1] [Latest Metadata]  Exxon Mobile   \n",
       "4  exxonmobil.com  1949_Users [U][1] [Latest Metadata]  Exxon Mobile   \n",
       "\n",
       "  instance_id   owner_id  owner_name  \n",
       "0  edcast-206  664511761  Domo Admin  \n",
       "1  edcast-206  664511761  Domo Admin  \n",
       "2  edcast-206  664511761  Domo Admin  \n",
       "3  edcast-206  664511761  Domo Admin  \n",
       "4  edcast-206  664511761  Domo Admin  "
      ]
     },
     "execution_count": 127,
     "metadata": {},
     "output_type": "execute_result"
    }
   ],
   "source": [
    "final_domains.head()"
   ]
  },
  {
   "cell_type": "code",
   "execution_count": 128,
   "id": "c2882698",
   "metadata": {},
   "outputs": [],
   "source": [
    "final_domains['org_id'] = final_domains.ds_name.str.extract('(\\d+)')"
   ]
  },
  {
   "cell_type": "code",
   "execution_count": 129,
   "id": "db9338ae",
   "metadata": {},
   "outputs": [],
   "source": [
    "final_domains.org_id = final_domains.org_id.astype('int32')"
   ]
  },
  {
   "cell_type": "code",
   "execution_count": 130,
   "id": "edf728e6",
   "metadata": {},
   "outputs": [
    {
     "name": "stdout",
     "output_type": "stream",
     "text": [
      "<class 'pandas.core.frame.DataFrame'>\n",
      "Index: 3401858 entries, 0 to 3451349\n",
      "Data columns (total 7 columns):\n",
      " #   Column       Dtype \n",
      "---  ------       ----- \n",
      " 0   domain       object\n",
      " 1   ds_name      object\n",
      " 2   client       object\n",
      " 3   instance_id  object\n",
      " 4   owner_id     int64 \n",
      " 5   owner_name   object\n",
      " 6   org_id       int32 \n",
      "dtypes: int32(1), int64(1), object(5)\n",
      "memory usage: 194.7+ MB\n"
     ]
    }
   ],
   "source": [
    "final_domains.info()"
   ]
  },
  {
   "cell_type": "code",
   "execution_count": 131,
   "id": "fd4b0327",
   "metadata": {},
   "outputs": [
    {
     "data": {
      "text/plain": [
       "array([  1949,   1603,   1799,   1973,   1964,   1998,   1903,   1690,\n",
       "         1594,      1,   1907,   1858,   1715,   1229, 100001,   2014,\n",
       "       100046,   2102, 300013, 300005, 300039, 100058,   1894, 300046,\n",
       "       400011, 100051, 300056,   2115, 300184, 300069, 300087,   2073,\n",
       "       300101, 300093, 600003, 100072, 300096, 100074, 300090, 100077,\n",
       "       100081, 300139, 100128,   2002, 100012, 100086, 300113, 300166,\n",
       "       100092, 300181, 300186, 300131, 100080, 300185, 300205, 600018,\n",
       "       600016, 100087, 300175, 600019, 100099, 100098, 300225, 300151,\n",
       "       300218, 300217, 100105, 300208, 100104, 300235,   2104, 300137,\n",
       "       300243, 100067, 300255, 100121, 300229, 100123, 100122,   2155,\n",
       "       100116, 100111, 100127, 300276, 300279, 300278, 300288, 300289,\n",
       "       100143, 400208, 100145, 300397, 100126, 100158], dtype=int32)"
      ]
     },
     "execution_count": 131,
     "metadata": {},
     "output_type": "execute_result"
    }
   ],
   "source": [
    "final_domains.org_id.unique()"
   ]
  },
  {
   "cell_type": "code",
   "execution_count": 132,
   "id": "910b7e4f",
   "metadata": {},
   "outputs": [],
   "source": [
    "final_domains['Region'] = pd.cut(final_domains.org_id,\n",
    "                            [0,100000,\n",
    "                             200000,300000,\n",
    "                             399999,500000,\n",
    "                             600000,700000,\n",
    "                             800000,900000,\n",
    "                             1000000,1099999],\n",
    "                            labels=['US EAST PROD', #0-100000\n",
    "                                    'EU PROD', #100000-200000\n",
    "                                    'GCP', #200000-300000\n",
    "                                    'US WEST', #300000-399999\n",
    "                                    'EU Preview', #400000 - 500000\n",
    "                                    'Mumbai', #500001-600000\n",
    "                                    'AUS', #600001-700000\n",
    "                                    'NA', #700001-800000\n",
    "                                    'GCP US-CENTRAL', #800000 - 900000\n",
    "                                    'ASIA-SOUTH-1', #900001 - 1000000\n",
    "                                    'US Preview' #900001 - 1000000\n",
    "                                   ]) "
   ]
  },
  {
   "cell_type": "code",
   "execution_count": 133,
   "id": "e8398ba6",
   "metadata": {},
   "outputs": [
    {
     "data": {
      "text/html": [
       "<div>\n",
       "<style scoped>\n",
       "    .dataframe tbody tr th:only-of-type {\n",
       "        vertical-align: middle;\n",
       "    }\n",
       "\n",
       "    .dataframe tbody tr th {\n",
       "        vertical-align: top;\n",
       "    }\n",
       "\n",
       "    .dataframe thead th {\n",
       "        text-align: right;\n",
       "    }\n",
       "</style>\n",
       "<table border=\"1\" class=\"dataframe\">\n",
       "  <thead>\n",
       "    <tr style=\"text-align: right;\">\n",
       "      <th></th>\n",
       "      <th>domain</th>\n",
       "      <th>ds_name</th>\n",
       "      <th>client</th>\n",
       "      <th>instance_id</th>\n",
       "      <th>owner_id</th>\n",
       "      <th>owner_name</th>\n",
       "      <th>org_id</th>\n",
       "      <th>Region</th>\n",
       "    </tr>\n",
       "  </thead>\n",
       "  <tbody>\n",
       "    <tr>\n",
       "      <th>0</th>\n",
       "      <td>exxonmobil.com</td>\n",
       "      <td>1949_Users [U][1] [Latest Metadata]</td>\n",
       "      <td>Exxon Mobile</td>\n",
       "      <td>edcast-206</td>\n",
       "      <td>664511761</td>\n",
       "      <td>Domo Admin</td>\n",
       "      <td>1949</td>\n",
       "      <td>US EAST PROD</td>\n",
       "    </tr>\n",
       "    <tr>\n",
       "      <th>1</th>\n",
       "      <td>exxonmobil.com</td>\n",
       "      <td>1949_Users [U][1] [Latest Metadata]</td>\n",
       "      <td>Exxon Mobile</td>\n",
       "      <td>edcast-206</td>\n",
       "      <td>664511761</td>\n",
       "      <td>Domo Admin</td>\n",
       "      <td>1949</td>\n",
       "      <td>US EAST PROD</td>\n",
       "    </tr>\n",
       "    <tr>\n",
       "      <th>2</th>\n",
       "      <td>exxonmobil.com</td>\n",
       "      <td>1949_Users [U][1] [Latest Metadata]</td>\n",
       "      <td>Exxon Mobile</td>\n",
       "      <td>edcast-206</td>\n",
       "      <td>664511761</td>\n",
       "      <td>Domo Admin</td>\n",
       "      <td>1949</td>\n",
       "      <td>US EAST PROD</td>\n",
       "    </tr>\n",
       "    <tr>\n",
       "      <th>3</th>\n",
       "      <td>exxonmobil.com</td>\n",
       "      <td>1949_Users [U][1] [Latest Metadata]</td>\n",
       "      <td>Exxon Mobile</td>\n",
       "      <td>edcast-206</td>\n",
       "      <td>664511761</td>\n",
       "      <td>Domo Admin</td>\n",
       "      <td>1949</td>\n",
       "      <td>US EAST PROD</td>\n",
       "    </tr>\n",
       "    <tr>\n",
       "      <th>4</th>\n",
       "      <td>exxonmobil.com</td>\n",
       "      <td>1949_Users [U][1] [Latest Metadata]</td>\n",
       "      <td>Exxon Mobile</td>\n",
       "      <td>edcast-206</td>\n",
       "      <td>664511761</td>\n",
       "      <td>Domo Admin</td>\n",
       "      <td>1949</td>\n",
       "      <td>US EAST PROD</td>\n",
       "    </tr>\n",
       "  </tbody>\n",
       "</table>\n",
       "</div>"
      ],
      "text/plain": [
       "           domain                              ds_name        client   \n",
       "0  exxonmobil.com  1949_Users [U][1] [Latest Metadata]  Exxon Mobile  \\\n",
       "1  exxonmobil.com  1949_Users [U][1] [Latest Metadata]  Exxon Mobile   \n",
       "2  exxonmobil.com  1949_Users [U][1] [Latest Metadata]  Exxon Mobile   \n",
       "3  exxonmobil.com  1949_Users [U][1] [Latest Metadata]  Exxon Mobile   \n",
       "4  exxonmobil.com  1949_Users [U][1] [Latest Metadata]  Exxon Mobile   \n",
       "\n",
       "  instance_id   owner_id  owner_name  org_id        Region  \n",
       "0  edcast-206  664511761  Domo Admin    1949  US EAST PROD  \n",
       "1  edcast-206  664511761  Domo Admin    1949  US EAST PROD  \n",
       "2  edcast-206  664511761  Domo Admin    1949  US EAST PROD  \n",
       "3  edcast-206  664511761  Domo Admin    1949  US EAST PROD  \n",
       "4  edcast-206  664511761  Domo Admin    1949  US EAST PROD  "
      ]
     },
     "execution_count": 133,
     "metadata": {},
     "output_type": "execute_result"
    }
   ],
   "source": [
    "final_domains.head()"
   ]
  },
  {
   "cell_type": "code",
   "execution_count": 151,
   "id": "06b0a40c",
   "metadata": {},
   "outputs": [
    {
     "data": {
      "text/plain": [
       "'dell.com,sc.com,anz.com,wns.com,effem.com,schwab.com,adityabirla.com,christushealth.org,diageo.com,adityabirlacapital.com,vodafoneidea.com,amfam.com,novelis.adityabirla.com,royalcanin.com,afics.com,se.com,icicisecurities.com,abfrl.adityabirla.com,titan.co.in,macquarie.com,homesite.com,thegeneral.com,marico.com,exxonmobil.com,tcs.com,connectbyamfam.com,theiconic.com.au,tallysolutions.com,tatadigital.com,ubs.com,msagroup.com,eabl.com,airasia.co.in,sctest.com,ucap.schneider-electric.net,delltest.com,edcast.com,healthhelp.com,anzmortgagesolutions.com,novelis.biz,hotmail.com,stvin.org,tmibasl.com,tataaia.com,tatamotors.com,lrmg.co.za,wnsa.com,worldline.anz.com,echristus.net,novelis.com,ssoeglobal.com,tatacapital.com,aol.com,star.adityabirla.com,atos.net,tata.com,schneider-electric.com,Dell.com,tatapower.com,cafosa.com,tatasteel.com,tmrw.in,impactful.co.za,nomnomnow.com,tatanexarc.com,tstelemed.com,uthscsa.edu,domsjo.adityabirla.com,nexarc.in,ssiplglobal.com,sbcglobal.net,leaderonomics.com,netlink.com,kindsnacks.com,adityabirla.bank,birlacentury.com,tatainternational.com,usap.com,tataelxsi.co.in,tatatechnologies.com,tatatel.co.in,victoriaemergency.com,lntebg.com,bcm.edu,esso.ca,banfield.com,south.edu,justerinis.com,radpartners.com,mjunction.in,me.com,kinship.co,tatachemicals.com,paeaonline.org,email.com,pediatrix.com,lmunet.edu,linfox.com,mednax.com,tatametaliks.co.in,non.se.com,southuniversity.edu,usoncology.com,miscbhd.com,tastybite.com,imperialhealth.com,pvasatx.com,klkoleo.com,msn.com,invalidemail.com,outlook.com,wellmed.net,soundphysicians.com,ochsner.org,tataunistore.com,biocon.com,nova.edu,dchstx.org,icloud.com,tataaig.com,touro.edu,csod.com,alliancefg.com,tataconsumer.com,att.net,atsu.edu,tatarealty.in,1mg.com,allianz.com.my,txfcc.org,digitalcampus.co.za,hanes.com,steward.org,pitt.edu,rediffmail.com,klk.com.my,gonzaba.com,uw.edu,trenthyper-tata.com,qq.com,trueins.com,duke.edu,kindsnacks.co.uk,utmb.edu,mac.com,manulife.com,gwu.edu,umaryland.edu,rciaradiology.com,cccahealth.com,collom-carney.com,midwestern.edu,live.com,tataprojects.com,westcoastuniversity.edu,insynctraining.com,wakehealth.edu,tatasustainability.com,yale.edu,gt.rr.com,uams.edu,urologysa.com,georgefox.edu,centerforortho.com,utsouthwestern.edu,christuscei.mx,genesisprimecare.org,franklinpierce.edu,schwab.com.hk,dmu.edu,pace.edu,med.fsu.edu,bangkokbank.com,creighton.edu,deltapathology.com,pulauindah.com.my,abcdpediatrics.com,ohsu.edu,satx.rr.com,gastroconsa.com,danicapension.dk,stoh.com,uky.edu,malaysiancare.org,lemoyne.edu,usacs.com,highpoint.edu,cloudmed.com,mcphs.edu,butler.edu,unthsc.edu,centromedsa.com,rapadocs.com,tatacoffee.com,dellteam.com,cbu.edu,unmc.edu,sabyasachi.com,sakdc.com,jefferson.edu,shcr.com,tatatrusts.org,evms.edu,ymail.com,non.schneider-electric.com,gannon.edu,arcadia.edu,desales.edu,tataiq.com,vca.com,kpims.co.za,ccswla.com,mail.mil,airvistara.com,isu.edu,stanford.edu,sacredheart.edu,bellsouth.net,ucdavis.edu,uvu.edu,lynchburg.edu,ithaca.edu,nau.edu,marietta.edu,ypioca.com.br,pcom.edu,ascopower.com,ucumberlands.edu,torque.pro,tatacommunications.com,csuniv.edu,sullivan.edu,fiu.edu,ketchum.edu,drexel.edu,bluepearlvet.com,msm.edu,woundcentrics.com,mghihp.edu,ecu.edu,tddctx.com,wisc.edu,une.edu,ouhsc.edu,siumed.edu,gardner-webb.edu,globalleadership.org,mcenergygroup.com,mayo.edu,texaskidneycare.com,trine.edu,voltas.com,steu.edu,brenau.edu,tataclassedge.com,lipscomb.edu,pct.edu,umich.edu,ehc.edu,dbq.edu,rtnassociates.com,utah.edu,marquette.edu,ohio.edu,elon.edu,healthtexas.org,su.edu,pacific.edu,campbell.edu,chatham.edu,quinnipiac.edu,wingate.edu,trevecca.edu,rm.edu,hsutx.edu,sgws.com,ucwv.edu,pathreflab.com,harding.edu,wichita.edu,tsaog.com,liu.edu,mercer.edu,baypath.edu,digitate.com,med.usc.edu,swbell.net,shp.rutgers.edu,musc.edu,augsburg.edu,umes.edu,pacificu.edu,nwciowa.edu,soctelemed.com,schwabbank.com,croma.com,ne-obgyn.com,britishgas.co.uk,rmc.edu,cedarville.edu,frostburg.edu,usf.edu,med.unc.edu,dominican.edu,jwu.edu,usj.edu,tesensors.com,lcmh.com,iima.ac.in,msj.edu,chapman.edu,northwestern.edu,salud.unm.edu,nuvasive.com,tatasteellp.com,mercycollege.edu,css.edu,uiowa.edu,cdrewu.edu,nsuok.edu,mc.edu,scuhs.edu,iimb.ac.in,uab.edu,scbdev.com,westernu.edu,birlaestates.com,astra.xlri.ac.in,evansville.edu,tatabluescopesteel.com,rosalindfranklin.edu,sru.edu,lili.global,ulsanaluminum.com,tatanykshipping.com,glnmalaysia.org,presby.edu,va.gov,cando.co.za,gvsu.edu,bethel.edu,okstate.edu,bridgeport.edu,ucollege.edu,ksu.edu,usd.edu,iu.edu,salus.edu,monmouth.edu,tufts.edu,lsuhsc.edu,global.anz.com,kc.edu,faulkner.edu,utoledo.edu,bethelu.edu,rit.edu,chamberlain.edu,ttuhsc.edu,thiel.edu,amc.edu,ccardiology.com,sakidney.com,utrgv.edu,canisius.edu,appartners.com,case.edu,carlow.edu,spinaldoc.com,msu.edu,healthcareexpress.us,rocketmail.com,esanda.com,uwlax.edu,northeastern.edu,hofstra.edu,usciences.edu,sibkl.org.my,uscmed.sc.edu,marist.edu,csumb.edu,sgpu.edu.my,cuaa.edu,fmgoftexarkana.com,valpo.edu,dom.edu,cgs-cimb.com,marshall.edu,sau.edu,barry.edu,envisionhealth.com,ananyabirla.com,littlespurs.com,shu.edu,sbu.edu,rvu.edu,windstream.net,sutherlandglobal.com,breakthrubev.com,mountunion.edu,theeyeclinic.net,francis.edu,suddenlink.net,umhb.edu,rocky.edu,su.org.my,laverne.edu,llu.edu,misericordia.edu,uthsc.edu,pfeiffer.edu,shsu.edu,okcu.edu,protonmail.com,udmercy.edu,mdc.edu,ifwh.org,samuelmerritt.edu,towson.edu,franklincollege.edu,foodspring.com,cmich.edu,clarkson.edu,dentsu.com,ltu.edu,downstate.edu,pennstatehealth.psu.edu,mtsu.edu,sf.edu,alphastruxure.com,assumption.edu,alamophysicianservices.com,rrcc.edu,umkc.edu,tenethealth.com,marybaldwin.edu,summitenergy.com,sg.adityabirlacapital.com,aditybirla.com,emich.edu,linnaeusgroup.co.uk,accessphysicians.com,tajhotels.com,kings.edu,udayton.edu,ausrad.com,meridian.msstate.edu,cuanschutz.edu,banfield.net,mmc.edu,anicuragroup.com,methodist.edu,ohiodominican.edu,caratlane.com,macquarie.com.au,tu.edu,Dell.Com,kean.edu,westfield.ma.edu,bu.edu,york.cuny.edu,iimk.ac.in,miamioh.edu,duq.edu,schwabcharitable.org,tasl.aero,pap.ufl.edu,eaglestar.com.my,hcahealthcare.com,mmhe.com.my,birlacarbon.com,coloradomesa.edu,mercyhurst.edu,comcast.net,stx.rr.com,inzpera.com,franu.edu,stonybrook.edu,aditaybirla.com,bryant.edu,pacificinsurance.com.my,ashland.edu,med.unr.edu,csm.edu,ut.edu,klkland.com.my,earthlink.net,retail.adityabirla.com,tataadvancedsystems.com,cableone.net,sanjuanbautista.edu,psctyler.com,temple.edu,calbaptist.edu,westliberty.edu,adiyabirla.com,marsh.com,hsc.utah.edu,tmilltd.com,ortho-sa.com,noctrl.edu,med.und.edu,cacost.org,lockhaven.edu,telkom.co.za,acscardio.com,springfieldcollege.edu,corptst.anz.com,lsuhs.edu,usc.edu,missouristate.edu,emory.edu,dyc.edu,maryu.marywood.edu,wagner.edu,carrollu.edu,upstate.edu,ab.edu,alpha.org.my,osinb.com,upap.utah.edu,jmu.edu,thepathlab.com,indstate.edu,allied.mv,kgi.edu,southalabama.edu,aces-int.com,anz.onmicrosoft.com,findlay.edu,naturesbakery.com,mercy.edu,iimranchi.ac.in,health.ucsd.edu,wolf-learning.com,fgcu.edu,ahu.edu,weber.edu,fftprovider.com,birlasunlife.com,cbwc.us,utexas.edu,oakland.edu,tpgst.com,fdu.edu,idea.adityabirla.com,shantanunikhil.com,wcupa.edu,setonhill.edu,delval.edu,beanstalk.com,odb.org,tataamc.com,stjohns.edu,wayne.edu,ems.schneider-electric.com,entclinicsofsa.com,cuw.edu,saidc.com,homegauge.com,xula.edu,bigbasket.com,nyit.edu,fcscb.org,communicaresa.org,cbwellness.org,gohce.com,talearnx.com,hpu.edu,rightnowmedia.org,mountsaintvincent.edu,austincollege.edu,childrens.com,cfksa.com,icicisecuritiesinc.com,juno.com,drury.edu,ANZ.COM,yu.edu,rallis.com,pointloma.edu,histopathcc.com,ursuline.edu,hotmai.com,wmich.edu,usa.edu,obhg.com,msmary.edu,gmai.com,sapaindoc.com,iphatx.com,abdominalspecialists.com,und.edu,gvtc.com,davita.com,ucdenver.edu,amcareclinic.com,abfrl.aditybirla.com,verizon.net,stkate.edu,mail.com,ucap.non.schneider-electric.net,ucap.feller.net,jmarkmoralesmd.com,prominerals.in,163.com,lhcgroup.com,arc-pa.org,greeninvestmentgroup.com,netscape.net,northstaranesthesia.com,ameripath.com,ptsolutions.com,keiseruniversity.edu,lema-em.com,christus.mx,tamco.com.my,feller.ch,ssbea.com.cn,dialogconsulting.co.uk,med.cuny.edu,gsasa.com,nmims.edu.in,myapexmed.com,ttelectronics.com,nexusunderwriting.com,jaguarlandrover.com,unitedmindsglobal.com,bw.edu,vrad.com,yandex.ru,chinhingroup.com,livemail.uthscsa.edu,jombay.com,mcw.edu,dumc.my,sapedidocs.com,northwestu.edu,saneuro.com,stephens.edu,tachc.org,osu.edu,iiml.ac.in,iimraipur.ac.in,tataelxsi.com,milligan.edu,trlkrosaki.com,txneurospine.com,rmndx.com,mktg.com,suddenlinkmail.com,hotmail.co.uk,azuracare.com,wnsgs.com,lr.edu,associates.sibmpune.edu.in,sju.edu,accesstelecare.com,health.slu.edu,uk.zurich.com,radford.edu,stpmr.com,alvernia.edu,nccpa.net,bluepebblegroup.com,med.cornell.edu,utoronto.ca,hiscoxmotorclaims.co.uk,rush.edu,my.msig-asia.com,ndm.edu,txmss.com,mpowerhealth.com,claritycgc.org,mmssb.com.my,jenningsco.com,rhbgroup.com,intabina.com,vodafone.com,ngu.edu,axa.com.my,tatahealth.com,amistadchc.org,appletest.com,everynation.org.my,abgapparelretail.onmicrosoft.com,avg.adityabirla.com,scp-health.com,dgphysicians.com,kenann.com.my,chinhinproperty.com,signaturegroup.com.my,eyecentersbmt.com,uae.adityabirlacapital.com,email.iimcal.ac.in,greenstruxure.com,nitie.ac.in,convivasolutions.com,womans.org,tokiomarine.com.my'"
      ]
     },
     "execution_count": 151,
     "metadata": {},
     "output_type": "execute_result"
    }
   ],
   "source": [
    "aa = final_domains[final_domains.Region == 'US EAST PROD']\n",
    "val = 700\n",
    "percent_missing_info = (aa.domain.value_counts()).sort_values(ascending=False)\n",
    "percent_missing_info[:val]\n",
    "# aa[aa.domain == 'marywood.edu']\n",
    "','.join(percent_missing_info[:val].keys())"
   ]
  },
  {
   "cell_type": "code",
   "execution_count": 153,
   "id": "c5804bea",
   "metadata": {},
   "outputs": [
    {
     "data": {
      "text/plain": [
       "'its.jnj.com,honeywell.com,jci.com,ngc.com,takeda.com,thermofisher.com,edwardjones.com,bain.com,vmware.com,johndeere.com,baptisthealth.net,bcg.com,us.aflac.com,worldbank.org,mahindra.com,exlservice.com,etisalat.com,eand.com,davita.com,fanniemae.com,ptclgroup.com,ni.com,okta.com,geappliances.com,ifc.org,mahfin.com,worldbankgroup.org,adb.org,jci-hitachi.com,bsp.gov.ph,titan.co.in,zee.com,boots.co.uk,dfiretailgroup.com,mohg.com,etisalat.ae,hkland.com,macquarie.com,bristlecone.com,audible.com,tcs.com,wirtgen-group.com,adia.ae,tatadigital.com,jec.com,cyclecarriage.com.sg,bcgplatinion.com,hotmail.com,bcgdv.com,roche.com,wirtgen.de,au.ngc.com,cyclecarriage.com.my,uk.ngc.com,lizearle.com,airasia.co.in,hamm.eu,thecontactcentre.ae,etisalat.af,gammonconstruction.com,voegele.info,advisor.bcg.com,jrghk.com,outlook.com,kleemann.info,schindler.com,aflac.com,helpag.com,jardines.com,benninghoven.com,hero.co.id,edcast.com,bcgfed.com,etisalatdata.net,tmibasl.com,tataaia.com,tatamotors.com,no7company.com,ikea.co.id,bridgespan.org,globalpartnership.org,audible.de,th.jec.com,jasg.com,bootsrt.com,tatacapital.com,scaled.com,ai.astra.co.id,tata.com,ikea.com.tw,ikea.com.hk,erkunttraktor.com.tr,guardianmal.com.my,dfilucky.com,wba.hk,amlc.gov.ph,zydustakeda.com,giant.com.my,external.bcgdv.com,tridium.com,jrgtw.com,jrgvn.com,guardian.com.vn,ciber.com.br,dairy-farm.com.hk,hactl.com,astragraphia.co.id,jardinedistribution.com,kemper-stadtlohn.de,guardian.com.sg,zungfu.com,transnorm.com,ruskin.com,systemsensor.com,systemsensor.com.cn,tatapower.com,waratah.com,pizzahut.com.tw,tatasteel.com,thegef.org,7-eleven.com.sg,tatanexarc.com,audible.co.uk,kfctaiwan.com,firemaster-mpc.com,edch.com,walgreens.com,classiclegends.com,trendcontrols.com,huoshengchina.com,aromatherapyassociates.com,nexarc.in,icloud.com,boots.com,daihatsu.astra.co.id,aiproducts.com,amazon.com,ppd.com,xtralis.com,ag-it.com,nhresearch.com,live.com,republicauto.com.sg,gatt-tech.com,tatainternational.com,boots-opticians.co.uk,tataelxsi.co.in,tatatechnologies.com,tatatel.co.in,Honeywell.com,qq.com,cyclecarriage.com.mm,shoppertrak.com,unitedtractors.com,aol.com,mclland.com.my,villagehealth.com,benavides.com.mx,mail.ru,rockyresearch.com,vapormatic.com,coldstorage.com.sg,simplexgrinnell.com,saia-pcd.com,nmims.edu.in,csod.com,bootsri.com,wba.com,bootsretailusa.com,jcclgroup.com,mail.mil,digilent.com,snu.ac.kr,mjunction.in,wbaoneit.com,tatachemicals.com,adbi.org,undp.org,phoenixcontrols.com,heinzinger-auto.com,unops.org,dairy-farm.com.my,duke.edu,tatametaliks.co.in,iihmr.in,wirtgengroup.com,adaptation-fund.org,chunghingeng.com,vt.edu,163.com,kaf.co.id,amazon.co.jp,tataunistore.com,tataaig.com,kcl.de,novar.com,hotmail.fr,tataconsumer.com,ymail.com,kochfilter.com,tatarealty.in,mclland.com.sg,titus-hvac.com,invalidjci.com,iadb.org,1mg.com,msn.com,outlook.fr,pamapersada.com,pwc.com,me.com,georgetown.edu,sera.astra.co.id,gwu.edu,aikbanka.rs,imf.org,vapormatic.com.mx,matrikonopc.com,digilent.ro,euro.ngc.com,mmimert.edu.in,menara-astra.co.id,fao.org,astra-honda.com,trenthyper-tata.com,prosidyan.com,inncom.com,berkeley.edu,cornell.edu,mac.com,iso.astra.co.id,unicef.org,fmo.nl,combisafe.com,astrainfra.co.id,jbims.edu,boots.ie,ITS.JNJ.com,tataprojects.com,airsysco.com,toyota.astra.co.id,ukr.net,tatasustainability.com,usbank.com,purdue.edu,cognizant.com,protonmail.com,tso.astra.co.id,notifier.it,rediffmail.com,nyu.edu,mahindraholidays.com,tunasgroup.com,audible.com.au,siamcitycement.com,notifier.de,mmcoe.edu.in,tycoint.com,adt.cl,verizon.net,lse.ac.uk,component.astra.co.id,columbia.edu,dairy-farm.com.cn,gnu.ac.in,hactlsolutions.com,umich.edu,asuransiastra.com,jhu.edu,averda.com,bainadvisor.com,giz.de,mm.jec.com,ifad.org,usc.edu,advisor.bcgfed.com,hotmail.co.uk,lambeth.com.hk,cf.lk,tatacoffee.com,un.org,matheson.co.uk,kcbgroup.com,astra-agro.co.id,contractors.roche.com,tatatrusts.org,scamesistemi.it,ucl.ac.uk,sanf.co.id,illinois.edu,umbc.edu,edcast.jardines.com,allianceboots.com,reecorp.com,airvistara.com,tataiq.com,patientpathways.org,wns.com,rocketmortgage.com,stanford.edu,comcast.net,mit.edu,uchicago.edu,lafargeholcim.com,ucsd.edu,pucp.edu.pe,krueger-hvac.com,uop.com,rooftopsystems.com,126.com,jp.ngc.com,ufl.edu,srisriuniversity.edu.in,mts-morethansafety.com,tec.mx,amazon.co.uk,adt.com.ar,tatacommunications.com,yandex.ru,btinternet.com,voltas.com,calpoly.edu,orange.fr,giant.com.sg,mottmac.com,usplus.world,esh.ae,iiebm.com,dso.astra.co.id,hkhyundai.com,uc.cl,integreon.com,virginia.edu,audible.fr,who.int,g.ucla.edu,wbadev.com,graduateinstitute.ch,tataclassedge.com,psu.edu,anu.edu.au,unal.edu.co,gmx.de,cgiar.org,rocketmail.com,iimb.ac.in,gfeceu.org,umn.edu,ramboll.com,vinamilk.com.vn,tatasteellp.com,kpmg.com,digitate.com,my.erau.edu,croma.com,up.edu.ph,sa.ngc.com,mail.utoronto.ca,pefa.org,audible.co.jp,reliablelouvers.com,amazon.de,ptcl.net.pk,proton.me,noemail.oim,tatabluescopesteel.com,tatanykshipping.com,msu.edu,gmx.com,scrivas.com,tuttleandbailey.com,etac.ae,iima.ac.in,aucegypt.edu,adt.mx,umd.edu,test.com,fifgroup.astra.co.id,colorado.edu,fcdo.gov.uk,astra.xlri.ac.in,pl.ngc.com,sciencespo.fr,gatech.edu,live.fr,asu.edu,rogers.com,kse.org.ua,inphb.ci,abv.bg,wisc.edu,tier1performance.com,savethechildren.org,list.ru,rocketcentral.com,gwmail.gwu.edu,trac.astra.co.id,g.bracu.ac.bd,intra.tunasgroup.com,ahumada.cl,maxims.com.hk,usaid.gov,stud.tiss.edu,terpmail.umd.edu,aecom.com,elster.com,nba.co.za,bu.edu,tcd.ie,my.fit.edu,g.harvard.edu,whitehouseit.com,acc.co.id,uniandes.edu.co,mymdc.net,yale.edu,ficohsa.com,tajhotels.com,pennbarry.com,macquarie.com.au,cam.ac.uk,naver.com,astramodern-land.co.id,adt.com.uy,acp-group.eu,tyco.com,caf.com,taf.co.id,fhfa.gov,army.mil,alliance-healthcare.net,dairy-farm.com.ph,fiu.edu,bluewin.ch,onecentral.com.mo,hawaii.edu,mrcooper.com,conservation.org,soapandglory.com,uah.edu,hks.harvard.edu,mweb.co.za,inzpera.com,soton.ac.uk,tcrtp.to,taipanbrandfarm.com,caratlane.com,outlook.es,carandbike.com,iimk.ac.in,princeton.edu,pu.go.id,siib.ac.in,strathmore.edu,tasl.aero,posteo.de,wbadigitalsolutions.com,inconsult.uz,northmarq.com,caribank.org,sina.com,kr.ngc.com,erm.com,unido.org,web.de,tsm.astra.co.id,ibid.astra.co.id,garantibbva.ro,stu.cfisd.net,ucdavis.edu,cedlas.org,dfat.gov.au,ralphs-transfer.com,hsph.harvard.edu,tetratech.com,earthlink.net,osu.edu,rba.hr,feps.edu.eg,arup.com,bmw.astra.co.id,aya.yale.edu,binapertiwi.co.id,tmilltd.com,monash.edu,guardian.com.bn,kreiselelectric.com,ftu.edu.vn,iesbpl.ac.in,jdnet.deere.com,mam.co.jp,uci.edu,labess.tn,lums.edu.pk,tufts.edu,baptisthealthit.onmicrosoft.com,tataadvancedsystems.com,mail.com,rit.edu,bigbasket.com,dartmouth.edu,wharton.upenn.edu,tataamc.com,wp.pl,pomonaimpact.com,grad.hr,soas.ac.uk,syr.edu,mines.edu,pucp.pe,istat.it,iucn.org,igp-astra.co.id,alumni.stanford.edu,australre.com,shaw.ca,samadista.com,rallis.com,mahindra2wheelers.com,uni-goettingen.de,famu.edu,leeds.ac.uk,urosario.edu.co,uca.fr,aust.edu,bigpond.com,bendixking.com,capgemini.com,uol.com.br,rambler.ru,ae.ngc.com,digital-g.tech,arumaya.co.id,kac.co.uk,mail.uc.edu,email.com,orange.com,student.monash.edu,fbpmc.ma,iiml.ac.in,wanadoo.fr,sleekmakeup.com,jh.edu,emarine.ae,aiib.org,cuts.org,unimelb.edu.au,pravo.hr,sdsu.edu,u.nus.edu,ku.edu.tr,ucla.edu,griffith.edu.au,ateneo.edu,hotmail.de,udel.edu,ug.edu.gh,manchester.ac.uk,edubrite.com,warwick.ac.uk,bigrs.org,insead.edu,fdlconsultinc.com,adt.com.br,sureskills.com,mail.mcgill.ca,milliman.com,iu.edu,iinet.net.au,lagoonhospitals.com,outlook.de,enablementlab.com,traknus.co.id,trioniaq.com,tamdeed.ae,ucsf.edu,bk.ru,nepad.org,student.sust.edu,mindfirecomm.com,ph.ey.com,exeter.ac.uk,outsource.etisalatdata.net,unhcr.org,metu.edu.tr,trlkrosaki.com,student.polytechnic.bh,dhimortgage.com,lument.com,hmu.edu.vn,windowslive.com,stat.gov.rs,tcnj.edu,aisalesrep.com,usitc.gov,marsys.ngc.com,mobily.com.sa,pku.edu.cn,utexas.edu,eurac.edu,mail.ugm.ac.id,webuildgroup.et,townemortgage.com,aub.edu.lb,apn.gob.ar,sil.org,email.iimcal.ac.in,gmu.edu,diu.edu.bd,tradeport-hongkong.com,govt.lc,aau.edu.et,usm.edu.ph,tataelxsi.com,xtra.co.nz,wfp.org,uic.edu,eisalat.ae,uns.ac.rs,kfw.de,iset.ge,wwfus.org,wur.nl,ashoka.edu.in,nsd.pku.edu.cn,ext.ec.europa.eu,patria.co.id,sun.ac.za,pfss-comores.org,law.gwu.edu,tatahealth.com,eco.uc3m.es,brown.edu,ui.ac.id,india-alt.com,strath.ac.uk,finance.gov.to,musph.ac.ug,t-online.de,planet.tn,ucsc.edu,ed.ac.uk,kra.co.id,hotmail.es,tcs.partner.wbaoneit.com,epnusantara.com,nd.edu,uct.ac.za,unilag.edu.ng,vu.nl,live.co.uk,tesouro.gov.br,acset.co,stefanini.com,outlook.sg,uis.no,ksu.edu.sa,mail.harvard.edu,univ-paris1.fr,up.edu.pe,reformjo.org,korea.kr,gingerhotels.com,usp.br,agincourtresources.com,hp-ing.hr,ebrd.com,ucsb.edu,rug.nl,uwaterloo.ca,umass.edu,ibisconsulting.com,enterprisemobile.com,ouce.ox.ac.uk,usa.net,upenergygroup.com,seco.admin.ch,health.gov.sc,tse-fr.eu,conus.jnj.com,alumnos.udg.mx,mtm.astra.co.id,morganstanley.com,wuri.anid.gouv.tg,kdis.ac.kr,economics.ox.ac.uk,hmb.gov.tr,agro.uba.ar,up.ac.za,oecd.org,edcast.jimgroup.com,lungdoctors.com,ptapd.com,uw.edu.pl,iom.int,ura.go.ug,ase.ro,worldstartup.co,paruluniversity.ac.in,gsel.com.hk'"
      ]
     },
     "execution_count": 153,
     "metadata": {},
     "output_type": "execute_result"
    }
   ],
   "source": [
    "aa = final_domains[final_domains.Region == 'US WEST']\n",
    "val = 700\n",
    "percent_missing_info = (aa.domain.value_counts()).sort_values(ascending=False)\n",
    "percent_missing_info[:val]\n",
    "','.join(percent_missing_info[:val].keys())"
   ]
  },
  {
   "cell_type": "code",
   "execution_count": 179,
   "id": "1905186e",
   "metadata": {},
   "outputs": [
    {
     "data": {
      "text/plain": [
       "'novartis.com,danone.com,sc.com,discard.ubs.com,ubs.com,NOVARTIS.COM,asml.com,diageo.com,asml.qas,nedbank.co.za,swissre.com,nationwide.co.uk,tetrapak.com,manulife.com,sandoz.com,chanel.com,sulzer.com,manulife.ca,spotify.com,jhancock.com,eon.com,westnetz.de,hotmail.com,bayernwerk.de,eonenergy.com,nutricia.com,hm.com,SANDOZ.COM,boi.com,aib.ie,avacon.de,sgws.com,e-dis.de,hkex.com.hk,mitnetz-strom.de,manulife-sinochem.com,example.com,terumo-europe.com,sh-netz.com,syna.de,alcon.com,lew.de,hydroquebec.com,manulifeam.com,lew-verteilnetz.de,aguasdeorigen.com.ar,cardcenter.ch,enviam.de,wko.at,eabl.com,permanenttsb.ie,alconlabs.com,nedbank.com.na,breakthrubev.com,ulsterbank.com,edialog.de,mfc.co.za,alpro.com,npower.com,suewag.de,woolworths.lxp,nedbankinsurance.co.za,bluebunny.com,evianresort.com,cosstores.com,westenergie.de,dmc.co.za,iptiq.com,outlook.com,eon-energie.com,eon-uk.com,icloud.com,manulife-chinabank.com.ph,wkooe.at,nedbankprivatewealth.co.za,woolworths.co.za,phdmedia.com,lme.com,advantageaustria.org,wkw.at,super-walkers.com,evng.de,hotmail.co.uk,nedbank.co.zw,fmi.ch,live.ie,nedbank.co.sz,ele.de,enviatel.de,nedbank.co.ls,ave-online.de,hansewerk.com,davy.ie,peppergroup.ie,ch.issworld.com,weekday.com,centralbank.ie,evolution.za.com,ntrs.com,noemail.iob.ie,eircom.net,edcast.com,kantar.com,wks.at,danone.com.tr,atos.net,mitnetz-gas.de,navigatebp.com,natdistco.com,envia-therm.de,empiredist.com,acredia.at,fedway.com,photiadesgroup.com,mail.ebs.ie,vwsa.co.za,inhouse.wko.at,martignetti.com,georgiacrown.com,tcd.ie,lewtelnet.de,jwce.com,kbc.ie,italac.com.br,nedgroupinvestments.co.za,diageohospitality.com,goodbody.ie,wknoe.at,outlook.ie,avacon-natur.de,alliedbeverage.com,smollan.com,bayaderagroup.com,dastilewealthinsure.co.za,wkstmk.at,danskebank.co.uk,ctdist.com,n-adcbi.com,wktirol.at,ypioca.com.br,themortgageworks.co.uk,hartleyandparker.com,live.com,tetralaval.com,badgerliquor.com,gwc-atl.com,mail.dcu.ie,dentsu.com,hnrg.com,brescomebarton.com,external.danone.com,ymail.com,irishlife.ie,iob.ie,btinternet.com,westconnect.de,wkk.or.at,cbuae.gov.ae,mktg.com,albapower.com,happyfamilybrands.com,wkv.at,wifi-ooe.at,raimbek.com,teleperformance.co.uk,salessense.ie,omnicommediagroup.com,envia-service.de,rndc-usa.com,qme.com,bnymellon.com,hansegas.com,ams.at,me.com,csod.com,10minmail.de,live.co.uk,adctn.com,manuvie.ca,boi-ii.com,aol.com,e-wie-einfach.de,edistherm.de,stdbev.com,newireland.ie,castrolanda.coop.br,wkbgld.at,annalect.com,esk-projects.com,mancinibeverage.com,citi.com,s-adcbi.com,gisa.de,mitgas.de,deltadmd.rs,netz-wartungsservice.de,justerinis.com,frankliquor.com,themindstudios.com,ucdconnect.ie,lipmanbrothers.com,almapbbdo.com.br,mail.ru,cantor.com,firstcitizen.ie,jumex.com.mx,wifisalzburg.at,mail.com,bleedingheartrum.com,johnsonbrothers.com,tirol.com.br,beanstalk.com,coopsantaclara.com.br,msn.com,mococa.com.br,email.com,dfamilk.com,finance.gov.ie,lek.com,statestreet.com,spr1test.com,capitol-husting.com,asgoodman.com,ederbros.com,enthuse-marketing.com,coega.co.za,brewin.ie,kpmg.ie,glanbia.ie,saratogaliquor.com,lombard.ie,avendi.bg,nov.com,digilink.africa,bcmglobal.com,test.com,bpesa.org.za,linkgroup.ie,careerbox.co.za,vorarlbergnetz.at,uewk.de,oie-ag.de,barclays.com,prike.ee,oscweb.com,saracen-media.com,protonmail.com,rocketmail.com,illwerkevkw.at,ie.gt.com,grupoimperial.com.br,xyz.com,tennesseecrown.com,auva.at,rewardsco.co.za,odomcorp.com,stock.cz,elavon.com,gmx.at,frisia.coop.br,igpeurope.com,centraldist.com,yopmail.com,spf.org.za,wig.wko.at,zurich.com,tdsecurities.com,cargill.com,msl.ie,europrestigio.com.br,nielseniq.com,abdc-az.com,bourcha.com,pwc.com,investec.ie,th.nestle.com,sery.com,draco.at,ilim.com,capabilitybpo.com,iqeq.com,prike.lt,mitutoyo.at,eon-hungaria.com,prike.lv,refresco.com,wp.pl,absa.africa,lrmg.co.za,knoxbev.com,themindlab.co.uk,aviva.com,mercer.com,danskebank.ie,fexco.com,rbs.co.uk,wirtschaftsbund.at,dannon.com,marscapital.ie,avantcard.ie,source.fr,manulifeusreit.sg,wise-up.com,deltacapita.com,vhi.ie,vlbg.wifi.at,edisnatur.de,bachmann.info,capitaassetservices.ie,gamil.com,hotmail.it,eon.cz,cornmarket.ie,thielkasse.com,dmddelta.com,carnegroup.com,financeireland.ie,gmali.com,cupfsa.com,diageo-sales.com,bmmi.com.bh,rewards.co.za,delicato.com,ppdglobal.com,shadowcareers.co,feucht.co.at,harambee.co.za,vwfs.com,noe.wifi.at,windsor.ie,pb.boi.ie,workday.net,versailles.com.mx,saladinmedia.com,start.ie,natwest.com,innogy.com,mediareachomd.com,wellsfargo.com,gbo.com,mabs.ie,standardlife.ie,oatly.com,manulifeam.com.cn,gmai.com,talentecheck-salzburg.at,wienerlinien.at,greiner-gpi.com,anpost.ie,fmti.at,bnpparibas.com,overseasservice.com,nama.ie,viac.eu,nvfund.com,ssga.com,tycoon.mx,mac.com,terumomedical.com,nbcgf.ie,diageotrade.co.uk,greiner.com,universal-investment.com,rdko.nestle.com,lyngmotors.ie,mercaplan.com,effem.com,wifiwien.at,brokersupportcentre.com,accenture.com,menschenundarbeit.at,foundation-aus.com,udi.kiev.ua,testasml.com,blum.com,whitewave.com,boigm.com,dielebensmittel.at,aon.ie,kof.com.mx,proholz.at,rcomext.com,abtran.com,seprod.com,dllgroup.com,kreativedisplays.net,northernbank.co.uk,ph.nestle.com,firstautofinance.ie,umpquadairy.com,harvesthill.com,omd.com,ibw.at,ulsterbankcm.com,beverage-control.com,eu.austria.be,wtncrown.com,mht-vertrieb.at,sky.com,treibacher.com,eon.pl,maples.com,bmo.com,holzindustrie.at,mfcinvestments.com,wise-up.at,juliusbaer.com,heinzelsales.com,voestalpine.com,boi.ie,touchemedia.com,closebrothers.com,mx.nestle.com,eon.se,hpe.com,anpostinsurance.ie,bacher.at,deloitte.ie,elbenergie.com,conexim.ie,kearys.ie,dummy.com,nova.com,ipsos.com,otieno.com,tcs.com,kastner.at,iol.ie,xxxlutz.at,terumo.co.jp,bmwfin.ie,novartis.jp.com,indigo.ie,asia-brewery.com,eon-energy.com,interia.pl,cavanaghs.com,cibavision.com,euroclear.com,joeduffy.ie,marketcalling.at,newhireterumo-europe.com,mfsadmin.com,rediffmail.com,bigr2.at,eisneramper.ie,fcio.at,intertrustgroup.com,hsbc.com,nationwidefoundation.org.uk,superretailgroup.com,ie.ey.com,omg.cr,capitalflow.ie,rd.nestle.com,lgassetservices.ie,geberit.com,tilmanbrewin.ie,quiltercheviot.com,wuapaa.com,siemens-energy.com,citco.com,transfermate.com,shel.at,acornlife.ie,dpsa.gov.za,hoxtoncapital.com,loba.co.at,ntma.ie,demajo.com,canadalife.de,cfc.ie,scor.com,daus.global,omgdigital.co.za,bcp.ie,mws.eu,adaltrade.kz,phdnetwork.co.cr,olaari-saracen.co.tz,myvega.com,vamed.com,bolandcars.ie,partners.axa,amundi.com,mycit.ie,emlpayments.com,inspiramarketing.com,hogast.at,umail.ucc.ie,theflavapeople.co.uk,smithandwilliamson.com,mce.ie,seic.com,drumagency.co,qub.ac.uk,gmx.com,senoplast.com,waystone.com,codeandtheory.com,isonxperiences.com,allianz.ie,cabotfinancial.ie,gmal.com,fbd.ie,egd.cz,ibm.com,savv-e.com.au,keycapitalprivate.ie,aon.at,lyonsoflimerick.com,savvi.ie,bbh.com,aon.com,caceis.com,exlservice.com,fronius.com,licensingessentials.com.au,frankkeanevolkswagen.ie,jhancockinvestments.com,utmost.ie,dooleymotors.com,ie.rsagroup.com,mhdm.com.my,vse.de,bts.com,ateliers-de-verneuil.fr,epmooney.ie,ipb.ie,mullingarautos.ie,herdez.com,standardbank.co.za,op.pl,fitzpatricksgarages.ie,delgaz-grid.ro,equity.com,fspo.ie,eon-romania.ro,bofa.com,hotmail.fr,infosys.com,essent.nl,savanta.com,saputo.com,royallondon.ie,claremorriscu.ie,SH-NETZ.COM,thejtg.com,algoodbody.com,jdecoffee.com,manufacturesdemode.com,hedgeserv.com,stmk.wifi.at,gmil.com,campus.ie,omd.co.za,hughbogganmotors.ie,ntlworld.com,havenmortgages.ie,sscinc.com,torque.pro,rbs.com,doddl.ie,paypal.com,bif.ie,upcmail.ie,blackwatermotors.ie,rbc.com,arachas.ie,manx.net,preussenelektra.de,westernunion.com,avl.com,cci-sa.co.za,postinsurance.ie,parkmotors.ie,test.novartis.com,fairstone.ie,ipf.ie,gowanmotors.ie,aibjv.ie,fms-sg.de,mccambridgeduffy.com,fattal.com.lb,abc.com,chatelain.ch,kaiserkraft.com,deloitte.nl,bailliegifford.com,agcofinance.com,omgafrica.co.za,gc-solutions.net,bk.ru,eidesign.net,8th-day.com,axa.ie,emp.de,live.com.au,phdmediadirection.com.pl,blueyonder.co.uk,tgw-group.com,mumail.ie,360planner.at,jpmorgan.com,mazars.ie,griesemann.com,sherryfitz.ie,finglascu.ie,tesseractlearning.com,johnlinnanemotors.ie,learnnovators.com,EON.COM,gaswaerme.at,mosdorfer.com,avantmoney.ie,insighteditions.com,finlaymotorgroup.ie,ggg.com,i3pt.ie,thebearchitects.com,visuer.com,credit-suisse.com,dietransporteure.at,today-experts.com,handhmotors.ie,mmpi.ie,libero.it,mdistefanolicensing.com,stoen.pl,nfp.com,trench-group.com,moore.ie,live.it,mcconnellbros.ie,omondi.com,cms-electronics.com,divane.ie,kevinoleary.ie,minkowski.org,cksfinance.com,clonskeaghmotors.com,easystaff.at,wincraft.com,trmash.ie,bigr4.at,mslcork.ie,pinebridge.com,greatspiritsbakingcompany.com,o2.pl,circusstreet.com,system1research.com,comgest.com,onyango.com,ehl.at,welser.com,mth-retailgroup.com,weekday.se,peoplefirstcu.ie,merchantscx.com,bulla.com.au,harmonic.ky,au.lactalis.com,ochieng.com,donalryan.ie,feei.at,hotmail.es,foundtoo.com,qq.com,greshamhouse.ie,woolworths.LXP,re-mindphd.com,novatis.com,bgld.wifi.at,prometa.at,ww-dublin.com,in.ey.com,suavesque.co.za,rbos.co.uk,gpn.at,ipsfa.ie,mitsui.com,mortgagehorizons.ie,eon.de,raml-partner.at,mig.ie,integrationsfonds.at,delice.danone.com,seasprayprivate.ie,cardinalcapitalgroup.com,gcul.ie,g-l-a-m.com,practicalfinance.ie,lbsfe1.snv.at,zkw.at,finecoassetmanagement.com,liebherr.com,recombinators.com,gmx.net,n-adcbi.net,pm.me,piracanjuba.com.br,testmail.com,bpfi.ie,dilosk.com,designergrp.com,sumitrustgas.com,rabobank.com,eonenergy.co.uk,ukr.net,gillenmarkets.com,expoaustria.at,whatifinnovation.com,odipodev.com,asembl-brands.com,lawlibrary.ie,syneoshealth.com,mjhudson.com,supportnet.com.br,firefish.ltd.uk,net4you.net,kbassociates.ie,walshscarsales.ie,tcifund.ie,emyvalecu.ie,nrfm.ie,kroll.com,hertzcarsalesdl.ie,dwypd.gov.za,humm-group.com,invesco.com'"
      ]
     },
     "execution_count": 179,
     "metadata": {},
     "output_type": "execute_result"
    }
   ],
   "source": [
    "aa = final_domains[final_domains.Region == 'EU PROD']\n",
    "val = 730\n",
    "percent_missing_info = (aa.domain.value_counts()).sort_values(ascending=False)\n",
    "percent_missing_info[:val]\n",
    "','.join(percent_missing_info[:val].keys())"
   ]
  },
  {
   "cell_type": "code",
   "execution_count": 180,
   "id": "06294598",
   "metadata": {},
   "outputs": [
    {
     "data": {
      "text/plain": [
       "'bendigoadelaide.com.au,bupa.com.au,customerservice.nsw.gov.au,service.nsw.gov.au,sro.vic.gov.au,revenue.nsw.gov.au,bupateam.com,bupa.co.nz,ruralbank.com.au,adelaidebank.com.au,sira.nsw.gov.au,psc.nsw.gov.au,safework.nsw.gov.au,bupadental.net.au,leveraged.com.au,ipart.nsw.gov.au,liquorandgaming.nsw.gov.au,pi.nsw.gov.au,service.ric.gov.au,cyber.nsw.gov.au,tag.nsw.gov.au,longservice.nsw.gov.au,delphibank.com.au,edcast.com,dpie.nsw.gov.au,det.nsw.edu.au,smallbusiness.nsw.gov.au,clearlydental.com.au,iro.nsw.gov.au,bupa.com,bendigobank.com.au,psa.gov.au,gwic.nsw.gov.au,ipc.nsw.gov.au,centreforwhs.nsw.gov.au,ric.gov.au,responsiblegambling.nsw.gov.au,d-spa.com.au,bupadental.com.au,bupa-intl.com,tafensw.edu.au,health.nsw.gov.au,freshdentalcare.com.au,lifecaredental.com.au,theportdentalcare.com.au,chapmanroaddentalclinic.com.au,allsaintsdentalgroup.com.au,police.nsw.gov.au,dpi.nsw.gov.au,in.ibm.com,barossadental.com.au,defence.gov.au,stquentindental.com.au,sandhursttrustees.com.au,newtowndentalcare.com.au,bendigodelaide.com.au,facs.nsw.gov.au,mountlawleydental.com.au,outlook.com,moorebankdental.com.au,australiafairdental.com.au,facevaluedental.com,planning.nsw.gov.au,shdc.com.au,bexleydental.com.au,woodward-dental.co.nz,primedental.com.au,freshwaterdental.com.au,bupa.com.hk,healthysmiles.com.au,dentalcarecarine.com.au,adelaidesmilecentre.com.au,sydneydentalsurgeons.com.au,ryefamilydental.com.au,metrodental.com.au,bwdental.com.au,bendigodentist.com.au,valleyfinancial.com.au,lucasdental.com.au,rikendental.com.au,silasstreetdental.com.au,changefinancial.com.au,icloud.com,profarmergrain.com.au,bigpond.net.au,regional.nsw.gov.au,australiancropforecasters.com.au,harmonydental.com.au,cooperstreetdental.com.au,tindallorthodontics.com.au,transport.nsw.gov.au,citysmiles.com.au,sailorsbaydentistry.com.au,maryriverdental.com.au,sandybaydental.com.au,dentalonbowen.com.au,kelmscottdental.com.au,northqueenslandfamilydental.com.au,deltadental.com.au,palmerstondentalsurgery.com.au,robinatowndental.com,brunswickdental.net,brisbanedentalstudio.com.au,symesdesilva.co.nz,mosman3ddental.com.au,smilelinedental.com.au,thedentalcentre.com.au,drdillon.com.au,mckeefrydental.co.nz,lillipillidental.com.au,bondst.com.au,dentalpractice.net.au,qhms.com,aligndental.com.au'"
      ]
     },
     "execution_count": 180,
     "metadata": {},
     "output_type": "execute_result"
    }
   ],
   "source": [
    "aa = final_domains[final_domains.Region == 'AUS']\n",
    "val = 114\n",
    "percent_missing_info = (aa.domain.value_counts()).sort_values(ascending=False)\n",
    "percent_missing_info[:val]\n",
    "','.join(percent_missing_info[:val].keys())"
   ]
  },
  {
   "cell_type": "code",
   "execution_count": 178,
   "id": "bbb4340d",
   "metadata": {},
   "outputs": [
    {
     "data": {
      "text/plain": [
       "Series([], Name: count, dtype: int64)"
      ]
     },
     "execution_count": 178,
     "metadata": {},
     "output_type": "execute_result"
    }
   ],
   "source": [
    "aa = final_domains[final_domains.Region == 'GCP US-CENTRAL']\n",
    "val = 114\n",
    "percent_missing_info = (aa.domain.value_counts()).sort_values(ascending=False)\n",
    "percent_missing_info[:val]\n",
    "# ','.join(percent_missing_info[:val].keys())"
   ]
  },
  {
   "cell_type": "code",
   "execution_count": null,
   "id": "b827835b",
   "metadata": {},
   "outputs": [],
   "source": [
    "\n",
    "# final_domains[final_domains.Region == 'GCP'][[\"domain\"]].to_csv('gcp.csv', index=False)\n",
    "\n",
    "# final_domains[final_domains.Region == 'EU Preview'][[\"domain\"]].to_csv('eu_preview.csv', index=False)\n",
    "# final_domains[final_domains.Region == 'Mumbai'][[\"domain\"]].to_csv('mumbai.csv', index=False)\n",
    "\n",
    "# final_domains[final_domains.Region == 'ASIA-SOUTH-1'][[\"domain\"]].to_csv('asia-south-1.csv', index=False)\n",
    "# final_domains[final_domains.Region == 'US Preview'][[\"domain\"]].to_csv('us_preview.csv', index=False)"
   ]
  },
  {
   "cell_type": "code",
   "execution_count": null,
   "id": "55c632fb",
   "metadata": {},
   "outputs": [],
   "source": [
    "us_east = pd.Series(final_domains[final_domains.Region == 'US EAST PROD'].domain.unique())\n",
    "us_east.to_csv('us_east.csv', index=False)\n",
    "\n",
    "eu = pd.Series(final_domains[final_domains.Region == 'EU PROD'].domain.unique())\n",
    "eu.to_csv('eu.csv', index=False)\n",
    "\n",
    "us_west = pd.Series(final_domains[final_domains.Region == 'US WEST'].domain.unique())\n",
    "us_west.to_csv('us_west.csv', index=False)\n",
    "\n",
    "aus = pd.Series(final_domains[final_domains.Region == 'AUS'].domain.unique())\n",
    "aus.to_csv('aus.csv', index=False)\n",
    "\n",
    "gcp_us_central = pd.Series(final_domains[final_domains.Region == 'GCP US-CENTRAL'].domain.unique())\n",
    "gcp_us_central.to_csv('gcp_us_central.csv', index=False)"
   ]
  },
  {
   "cell_type": "code",
   "execution_count": null,
   "id": "45b11c00",
   "metadata": {},
   "outputs": [],
   "source": [
    "us_east"
   ]
  },
  {
   "cell_type": "code",
   "execution_count": null,
   "id": "ead16f8c",
   "metadata": {},
   "outputs": [],
   "source": [
    "us_east.nunique()"
   ]
  },
  {
   "cell_type": "code",
   "execution_count": null,
   "id": "907670ca",
   "metadata": {},
   "outputs": [],
   "source": [
    "eu"
   ]
  },
  {
   "cell_type": "code",
   "execution_count": null,
   "id": "764efb29",
   "metadata": {},
   "outputs": [],
   "source": [
    "us_west"
   ]
  },
  {
   "cell_type": "code",
   "execution_count": null,
   "id": "01f04171",
   "metadata": {},
   "outputs": [],
   "source": [
    "aus"
   ]
  },
  {
   "cell_type": "code",
   "execution_count": null,
   "id": "b0726f5b",
   "metadata": {},
   "outputs": [],
   "source": [
    "gcp_us_central.tolist()\n"
   ]
  },
  {
   "cell_type": "code",
   "execution_count": null,
   "id": "16ef9eb1",
   "metadata": {},
   "outputs": [],
   "source": []
  },
  {
   "cell_type": "code",
   "execution_count": null,
   "id": "dc788a91",
   "metadata": {},
   "outputs": [],
   "source": []
  },
  {
   "cell_type": "code",
   "execution_count": null,
   "id": "a6d803d2",
   "metadata": {},
   "outputs": [],
   "source": []
  },
  {
   "cell_type": "code",
   "execution_count": null,
   "id": "d1736d8d",
   "metadata": {},
   "outputs": [],
   "source": []
  },
  {
   "cell_type": "code",
   "execution_count": null,
   "id": "98aa8c67",
   "metadata": {},
   "outputs": [],
   "source": []
  },
  {
   "cell_type": "code",
   "execution_count": null,
   "id": "07037589",
   "metadata": {},
   "outputs": [],
   "source": []
  },
  {
   "cell_type": "code",
   "execution_count": null,
   "id": "cc7ab7ec",
   "metadata": {},
   "outputs": [],
   "source": []
  },
  {
   "cell_type": "code",
   "execution_count": null,
   "id": "6478afd1",
   "metadata": {},
   "outputs": [],
   "source": []
  },
  {
   "cell_type": "code",
   "execution_count": null,
   "id": "13450f8a",
   "metadata": {},
   "outputs": [],
   "source": []
  },
  {
   "cell_type": "code",
   "execution_count": null,
   "id": "867fb730",
   "metadata": {},
   "outputs": [],
   "source": []
  },
  {
   "cell_type": "code",
   "execution_count": null,
   "id": "a17ce239",
   "metadata": {},
   "outputs": [],
   "source": []
  },
  {
   "cell_type": "code",
   "execution_count": null,
   "id": "04fefa61",
   "metadata": {},
   "outputs": [],
   "source": []
  },
  {
   "cell_type": "code",
   "execution_count": null,
   "id": "ae5d5c0a",
   "metadata": {},
   "outputs": [],
   "source": []
  },
  {
   "cell_type": "code",
   "execution_count": null,
   "id": "a9d9734a",
   "metadata": {},
   "outputs": [],
   "source": []
  },
  {
   "cell_type": "code",
   "execution_count": null,
   "id": "40a7e2d4",
   "metadata": {},
   "outputs": [],
   "source": []
  },
  {
   "cell_type": "code",
   "execution_count": null,
   "id": "25dc0a48",
   "metadata": {},
   "outputs": [],
   "source": []
  },
  {
   "cell_type": "code",
   "execution_count": null,
   "id": "598bc4dc",
   "metadata": {},
   "outputs": [],
   "source": []
  },
  {
   "cell_type": "code",
   "execution_count": null,
   "id": "c8a83029",
   "metadata": {},
   "outputs": [],
   "source": [
    "final_domains.to_csv('final_domain_list.csv', index=False)"
   ]
  },
  {
   "cell_type": "code",
   "execution_count": null,
   "id": "7ddd7708",
   "metadata": {},
   "outputs": [],
   "source": []
  }
 ],
 "metadata": {
  "kernelspec": {
   "display_name": "Python 3 (ipykernel)",
   "language": "python",
   "name": "python3"
  },
  "language_info": {
   "codemirror_mode": {
    "name": "ipython",
    "version": 3
   },
   "file_extension": ".py",
   "mimetype": "text/x-python",
   "name": "python",
   "nbconvert_exporter": "python",
   "pygments_lexer": "ipython3",
   "version": "3.8.3"
  }
 },
 "nbformat": 4,
 "nbformat_minor": 5
}
